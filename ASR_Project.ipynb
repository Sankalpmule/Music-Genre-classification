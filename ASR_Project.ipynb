{
  "nbformat": 4,
  "nbformat_minor": 0,
  "metadata": {
    "colab": {
      "name": "ASR-Project.ipynb",
      "provenance": [],
      "collapsed_sections": []
    },
    "kernelspec": {
      "name": "python3",
      "display_name": "Python 3"
    },
    "language_info": {
      "name": "python"
    },
    "widgets": {
      "application/vnd.jupyter.widget-state+json": {
        "9bf6b49e6dfd4f6db6813b74faee1271": {
          "model_module": "@jupyter-widgets/controls",
          "model_name": "HBoxModel",
          "state": {
            "_view_name": "HBoxView",
            "_dom_classes": [],
            "_model_name": "HBoxModel",
            "_view_module": "@jupyter-widgets/controls",
            "_model_module_version": "1.5.0",
            "_view_count": null,
            "_view_module_version": "1.5.0",
            "box_style": "",
            "layout": "IPY_MODEL_888ff015899848bda9768dcb48c2b6e5",
            "_model_module": "@jupyter-widgets/controls",
            "children": [
              "IPY_MODEL_6733003a42a8477b98cecbd78f4cf941",
              "IPY_MODEL_9c74cda599c041f1baf7e24e0b21315a"
            ]
          }
        },
        "888ff015899848bda9768dcb48c2b6e5": {
          "model_module": "@jupyter-widgets/base",
          "model_name": "LayoutModel",
          "state": {
            "_view_name": "LayoutView",
            "grid_template_rows": null,
            "right": null,
            "justify_content": null,
            "_view_module": "@jupyter-widgets/base",
            "overflow": null,
            "_model_module_version": "1.2.0",
            "_view_count": null,
            "flex_flow": null,
            "width": null,
            "min_width": null,
            "border": null,
            "align_items": null,
            "bottom": null,
            "_model_module": "@jupyter-widgets/base",
            "top": null,
            "grid_column": null,
            "overflow_y": null,
            "overflow_x": null,
            "grid_auto_flow": null,
            "grid_area": null,
            "grid_template_columns": null,
            "flex": null,
            "_model_name": "LayoutModel",
            "justify_items": null,
            "grid_row": null,
            "max_height": null,
            "align_content": null,
            "visibility": null,
            "align_self": null,
            "height": null,
            "min_height": null,
            "padding": null,
            "grid_auto_rows": null,
            "grid_gap": null,
            "max_width": null,
            "order": null,
            "_view_module_version": "1.2.0",
            "grid_template_areas": null,
            "object_position": null,
            "object_fit": null,
            "grid_auto_columns": null,
            "margin": null,
            "display": null,
            "left": null
          }
        },
        "6733003a42a8477b98cecbd78f4cf941": {
          "model_module": "@jupyter-widgets/controls",
          "model_name": "FloatProgressModel",
          "state": {
            "_view_name": "ProgressView",
            "style": "IPY_MODEL_33aa0d4a888343a3b70fbaccfc496140",
            "_dom_classes": [],
            "description": " 16%",
            "_model_name": "FloatProgressModel",
            "bar_style": "danger",
            "max": 25,
            "_view_module": "@jupyter-widgets/controls",
            "_model_module_version": "1.5.0",
            "value": 4,
            "_view_count": null,
            "_view_module_version": "1.5.0",
            "orientation": "horizontal",
            "min": 0,
            "description_tooltip": null,
            "_model_module": "@jupyter-widgets/controls",
            "layout": "IPY_MODEL_36a3747e6d5a4356a5b68283048a02c4"
          }
        },
        "9c74cda599c041f1baf7e24e0b21315a": {
          "model_module": "@jupyter-widgets/controls",
          "model_name": "HTMLModel",
          "state": {
            "_view_name": "HTMLView",
            "style": "IPY_MODEL_726742b946c44b29a7d8b021657dd861",
            "_dom_classes": [],
            "description": "",
            "_model_name": "HTMLModel",
            "placeholder": "​",
            "_view_module": "@jupyter-widgets/controls",
            "_model_module_version": "1.5.0",
            "value": " 4/25 [00:00&lt;00:05,  4.14it/s]",
            "_view_count": null,
            "_view_module_version": "1.5.0",
            "description_tooltip": null,
            "_model_module": "@jupyter-widgets/controls",
            "layout": "IPY_MODEL_125f9a339f2546da8fb1a423ff20c4cb"
          }
        },
        "33aa0d4a888343a3b70fbaccfc496140": {
          "model_module": "@jupyter-widgets/controls",
          "model_name": "ProgressStyleModel",
          "state": {
            "_view_name": "StyleView",
            "_model_name": "ProgressStyleModel",
            "description_width": "initial",
            "_view_module": "@jupyter-widgets/base",
            "_model_module_version": "1.5.0",
            "_view_count": null,
            "_view_module_version": "1.2.0",
            "bar_color": null,
            "_model_module": "@jupyter-widgets/controls"
          }
        },
        "36a3747e6d5a4356a5b68283048a02c4": {
          "model_module": "@jupyter-widgets/base",
          "model_name": "LayoutModel",
          "state": {
            "_view_name": "LayoutView",
            "grid_template_rows": null,
            "right": null,
            "justify_content": null,
            "_view_module": "@jupyter-widgets/base",
            "overflow": null,
            "_model_module_version": "1.2.0",
            "_view_count": null,
            "flex_flow": null,
            "width": null,
            "min_width": null,
            "border": null,
            "align_items": null,
            "bottom": null,
            "_model_module": "@jupyter-widgets/base",
            "top": null,
            "grid_column": null,
            "overflow_y": null,
            "overflow_x": null,
            "grid_auto_flow": null,
            "grid_area": null,
            "grid_template_columns": null,
            "flex": null,
            "_model_name": "LayoutModel",
            "justify_items": null,
            "grid_row": null,
            "max_height": null,
            "align_content": null,
            "visibility": null,
            "align_self": null,
            "height": null,
            "min_height": null,
            "padding": null,
            "grid_auto_rows": null,
            "grid_gap": null,
            "max_width": null,
            "order": null,
            "_view_module_version": "1.2.0",
            "grid_template_areas": null,
            "object_position": null,
            "object_fit": null,
            "grid_auto_columns": null,
            "margin": null,
            "display": null,
            "left": null
          }
        },
        "726742b946c44b29a7d8b021657dd861": {
          "model_module": "@jupyter-widgets/controls",
          "model_name": "DescriptionStyleModel",
          "state": {
            "_view_name": "StyleView",
            "_model_name": "DescriptionStyleModel",
            "description_width": "",
            "_view_module": "@jupyter-widgets/base",
            "_model_module_version": "1.5.0",
            "_view_count": null,
            "_view_module_version": "1.2.0",
            "_model_module": "@jupyter-widgets/controls"
          }
        },
        "125f9a339f2546da8fb1a423ff20c4cb": {
          "model_module": "@jupyter-widgets/base",
          "model_name": "LayoutModel",
          "state": {
            "_view_name": "LayoutView",
            "grid_template_rows": null,
            "right": null,
            "justify_content": null,
            "_view_module": "@jupyter-widgets/base",
            "overflow": null,
            "_model_module_version": "1.2.0",
            "_view_count": null,
            "flex_flow": null,
            "width": null,
            "min_width": null,
            "border": null,
            "align_items": null,
            "bottom": null,
            "_model_module": "@jupyter-widgets/base",
            "top": null,
            "grid_column": null,
            "overflow_y": null,
            "overflow_x": null,
            "grid_auto_flow": null,
            "grid_area": null,
            "grid_template_columns": null,
            "flex": null,
            "_model_name": "LayoutModel",
            "justify_items": null,
            "grid_row": null,
            "max_height": null,
            "align_content": null,
            "visibility": null,
            "align_self": null,
            "height": null,
            "min_height": null,
            "padding": null,
            "grid_auto_rows": null,
            "grid_gap": null,
            "max_width": null,
            "order": null,
            "_view_module_version": "1.2.0",
            "grid_template_areas": null,
            "object_position": null,
            "object_fit": null,
            "grid_auto_columns": null,
            "margin": null,
            "display": null,
            "left": null
          }
        }
      }
    },
    "accelerator": "GPU"
  },
  "cells": [
    {
      "cell_type": "code",
      "metadata": {
        "colab": {
          "base_uri": "https://localhost:8080/"
        },
        "id": "rfPCp7V5CQL2",
        "outputId": "6fb0078f-a719-42c8-e8ab-24008b4e1270"
      },
      "source": [
        "from google.colab import drive\n",
        "drive.mount('/content/gdrive')"
      ],
      "execution_count": 1,
      "outputs": [
        {
          "output_type": "stream",
          "text": [
            "Mounted at /content/gdrive\n"
          ],
          "name": "stdout"
        }
      ]
    },
    {
      "cell_type": "code",
      "metadata": {
        "id": "9sKk6lJsCVeV"
      },
      "source": [
        "import os\n",
        "os.chdir('gdrive/MyDrive/CS753-Project')"
      ],
      "execution_count": 2,
      "outputs": []
    },
    {
      "cell_type": "code",
      "metadata": {
        "colab": {
          "base_uri": "https://localhost:8080/"
        },
        "id": "SHX73MgeCef3",
        "outputId": "a0aa5584-ac83-443b-853a-b8dce309b1a6"
      },
      "source": [
        "!pip install torchaudio"
      ],
      "execution_count": 3,
      "outputs": [
        {
          "output_type": "stream",
          "text": [
            "Collecting torchaudio\n",
            "\u001b[?25l  Downloading https://files.pythonhosted.org/packages/aa/55/01ad9244bcd595e39cea5ce30726a7fe02fd963d07daeb136bfe7e23f0a5/torchaudio-0.8.1-cp37-cp37m-manylinux1_x86_64.whl (1.9MB)\n",
            "\r\u001b[K     |▏                               | 10kB 27.7MB/s eta 0:00:01\r\u001b[K     |▍                               | 20kB 31.7MB/s eta 0:00:01\r\u001b[K     |▌                               | 30kB 21.3MB/s eta 0:00:01\r\u001b[K     |▊                               | 40kB 24.5MB/s eta 0:00:01\r\u001b[K     |▉                               | 51kB 25.5MB/s eta 0:00:01\r\u001b[K     |█                               | 61kB 28.3MB/s eta 0:00:01\r\u001b[K     |█▏                              | 71kB 18.8MB/s eta 0:00:01\r\u001b[K     |█▍                              | 81kB 20.2MB/s eta 0:00:01\r\u001b[K     |█▌                              | 92kB 18.7MB/s eta 0:00:01\r\u001b[K     |█▊                              | 102kB 18.7MB/s eta 0:00:01\r\u001b[K     |█▉                              | 112kB 18.7MB/s eta 0:00:01\r\u001b[K     |██                              | 122kB 18.7MB/s eta 0:00:01\r\u001b[K     |██▏                             | 133kB 18.7MB/s eta 0:00:01\r\u001b[K     |██▍                             | 143kB 18.7MB/s eta 0:00:01\r\u001b[K     |██▌                             | 153kB 18.7MB/s eta 0:00:01\r\u001b[K     |██▊                             | 163kB 18.7MB/s eta 0:00:01\r\u001b[K     |██▉                             | 174kB 18.7MB/s eta 0:00:01\r\u001b[K     |███                             | 184kB 18.7MB/s eta 0:00:01\r\u001b[K     |███▏                            | 194kB 18.7MB/s eta 0:00:01\r\u001b[K     |███▍                            | 204kB 18.7MB/s eta 0:00:01\r\u001b[K     |███▌                            | 215kB 18.7MB/s eta 0:00:01\r\u001b[K     |███▊                            | 225kB 18.7MB/s eta 0:00:01\r\u001b[K     |███▉                            | 235kB 18.7MB/s eta 0:00:01\r\u001b[K     |████                            | 245kB 18.7MB/s eta 0:00:01\r\u001b[K     |████▏                           | 256kB 18.7MB/s eta 0:00:01\r\u001b[K     |████▍                           | 266kB 18.7MB/s eta 0:00:01\r\u001b[K     |████▌                           | 276kB 18.7MB/s eta 0:00:01\r\u001b[K     |████▊                           | 286kB 18.7MB/s eta 0:00:01\r\u001b[K     |█████                           | 296kB 18.7MB/s eta 0:00:01\r\u001b[K     |█████                           | 307kB 18.7MB/s eta 0:00:01\r\u001b[K     |█████▎                          | 317kB 18.7MB/s eta 0:00:01\r\u001b[K     |█████▍                          | 327kB 18.7MB/s eta 0:00:01\r\u001b[K     |█████▋                          | 337kB 18.7MB/s eta 0:00:01\r\u001b[K     |█████▊                          | 348kB 18.7MB/s eta 0:00:01\r\u001b[K     |██████                          | 358kB 18.7MB/s eta 0:00:01\r\u001b[K     |██████                          | 368kB 18.7MB/s eta 0:00:01\r\u001b[K     |██████▎                         | 378kB 18.7MB/s eta 0:00:01\r\u001b[K     |██████▍                         | 389kB 18.7MB/s eta 0:00:01\r\u001b[K     |██████▋                         | 399kB 18.7MB/s eta 0:00:01\r\u001b[K     |██████▊                         | 409kB 18.7MB/s eta 0:00:01\r\u001b[K     |███████                         | 419kB 18.7MB/s eta 0:00:01\r\u001b[K     |███████                         | 430kB 18.7MB/s eta 0:00:01\r\u001b[K     |███████▎                        | 440kB 18.7MB/s eta 0:00:01\r\u001b[K     |███████▍                        | 450kB 18.7MB/s eta 0:00:01\r\u001b[K     |███████▋                        | 460kB 18.7MB/s eta 0:00:01\r\u001b[K     |███████▊                        | 471kB 18.7MB/s eta 0:00:01\r\u001b[K     |████████                        | 481kB 18.7MB/s eta 0:00:01\r\u001b[K     |████████                        | 491kB 18.7MB/s eta 0:00:01\r\u001b[K     |████████▎                       | 501kB 18.7MB/s eta 0:00:01\r\u001b[K     |████████▍                       | 512kB 18.7MB/s eta 0:00:01\r\u001b[K     |████████▋                       | 522kB 18.7MB/s eta 0:00:01\r\u001b[K     |████████▊                       | 532kB 18.7MB/s eta 0:00:01\r\u001b[K     |█████████                       | 542kB 18.7MB/s eta 0:00:01\r\u001b[K     |█████████                       | 552kB 18.7MB/s eta 0:00:01\r\u001b[K     |█████████▎                      | 563kB 18.7MB/s eta 0:00:01\r\u001b[K     |█████████▌                      | 573kB 18.7MB/s eta 0:00:01\r\u001b[K     |█████████▋                      | 583kB 18.7MB/s eta 0:00:01\r\u001b[K     |█████████▉                      | 593kB 18.7MB/s eta 0:00:01\r\u001b[K     |██████████                      | 604kB 18.7MB/s eta 0:00:01\r\u001b[K     |██████████▏                     | 614kB 18.7MB/s eta 0:00:01\r\u001b[K     |██████████▎                     | 624kB 18.7MB/s eta 0:00:01\r\u001b[K     |██████████▌                     | 634kB 18.7MB/s eta 0:00:01\r\u001b[K     |██████████▋                     | 645kB 18.7MB/s eta 0:00:01\r\u001b[K     |██████████▉                     | 655kB 18.7MB/s eta 0:00:01\r\u001b[K     |███████████                     | 665kB 18.7MB/s eta 0:00:01\r\u001b[K     |███████████▏                    | 675kB 18.7MB/s eta 0:00:01\r\u001b[K     |███████████▎                    | 686kB 18.7MB/s eta 0:00:01\r\u001b[K     |███████████▌                    | 696kB 18.7MB/s eta 0:00:01\r\u001b[K     |███████████▋                    | 706kB 18.7MB/s eta 0:00:01\r\u001b[K     |███████████▉                    | 716kB 18.7MB/s eta 0:00:01\r\u001b[K     |████████████                    | 727kB 18.7MB/s eta 0:00:01\r\u001b[K     |████████████▏                   | 737kB 18.7MB/s eta 0:00:01\r\u001b[K     |████████████▎                   | 747kB 18.7MB/s eta 0:00:01\r\u001b[K     |████████████▌                   | 757kB 18.7MB/s eta 0:00:01\r\u001b[K     |████████████▋                   | 768kB 18.7MB/s eta 0:00:01\r\u001b[K     |████████████▉                   | 778kB 18.7MB/s eta 0:00:01\r\u001b[K     |█████████████                   | 788kB 18.7MB/s eta 0:00:01\r\u001b[K     |█████████████▏                  | 798kB 18.7MB/s eta 0:00:01\r\u001b[K     |█████████████▎                  | 808kB 18.7MB/s eta 0:00:01\r\u001b[K     |█████████████▌                  | 819kB 18.7MB/s eta 0:00:01\r\u001b[K     |█████████████▋                  | 829kB 18.7MB/s eta 0:00:01\r\u001b[K     |█████████████▉                  | 839kB 18.7MB/s eta 0:00:01\r\u001b[K     |██████████████                  | 849kB 18.7MB/s eta 0:00:01\r\u001b[K     |██████████████▏                 | 860kB 18.7MB/s eta 0:00:01\r\u001b[K     |██████████████▍                 | 870kB 18.7MB/s eta 0:00:01\r\u001b[K     |██████████████▌                 | 880kB 18.7MB/s eta 0:00:01\r\u001b[K     |██████████████▊                 | 890kB 18.7MB/s eta 0:00:01\r\u001b[K     |██████████████▉                 | 901kB 18.7MB/s eta 0:00:01\r\u001b[K     |███████████████                 | 911kB 18.7MB/s eta 0:00:01\r\u001b[K     |███████████████▏                | 921kB 18.7MB/s eta 0:00:01\r\u001b[K     |███████████████▍                | 931kB 18.7MB/s eta 0:00:01\r\u001b[K     |███████████████▌                | 942kB 18.7MB/s eta 0:00:01\r\u001b[K     |███████████████▊                | 952kB 18.7MB/s eta 0:00:01\r\u001b[K     |███████████████▉                | 962kB 18.7MB/s eta 0:00:01\r\u001b[K     |████████████████                | 972kB 18.7MB/s eta 0:00:01\r\u001b[K     |████████████████▏               | 983kB 18.7MB/s eta 0:00:01\r\u001b[K     |████████████████▍               | 993kB 18.7MB/s eta 0:00:01\r\u001b[K     |████████████████▌               | 1.0MB 18.7MB/s eta 0:00:01\r\u001b[K     |████████████████▊               | 1.0MB 18.7MB/s eta 0:00:01\r\u001b[K     |████████████████▉               | 1.0MB 18.7MB/s eta 0:00:01\r\u001b[K     |█████████████████               | 1.0MB 18.7MB/s eta 0:00:01\r\u001b[K     |█████████████████▏              | 1.0MB 18.7MB/s eta 0:00:01\r\u001b[K     |█████████████████▍              | 1.1MB 18.7MB/s eta 0:00:01\r\u001b[K     |█████████████████▌              | 1.1MB 18.7MB/s eta 0:00:01\r\u001b[K     |█████████████████▊              | 1.1MB 18.7MB/s eta 0:00:01\r\u001b[K     |█████████████████▉              | 1.1MB 18.7MB/s eta 0:00:01\r\u001b[K     |██████████████████              | 1.1MB 18.7MB/s eta 0:00:01\r\u001b[K     |██████████████████▏             | 1.1MB 18.7MB/s eta 0:00:01\r\u001b[K     |██████████████████▍             | 1.1MB 18.7MB/s eta 0:00:01\r\u001b[K     |██████████████████▌             | 1.1MB 18.7MB/s eta 0:00:01\r\u001b[K     |██████████████████▊             | 1.1MB 18.7MB/s eta 0:00:01\r\u001b[K     |███████████████████             | 1.1MB 18.7MB/s eta 0:00:01\r\u001b[K     |███████████████████             | 1.2MB 18.7MB/s eta 0:00:01\r\u001b[K     |███████████████████▎            | 1.2MB 18.7MB/s eta 0:00:01\r\u001b[K     |███████████████████▍            | 1.2MB 18.7MB/s eta 0:00:01\r\u001b[K     |███████████████████▋            | 1.2MB 18.7MB/s eta 0:00:01\r\u001b[K     |███████████████████▊            | 1.2MB 18.7MB/s eta 0:00:01\r\u001b[K     |████████████████████            | 1.2MB 18.7MB/s eta 0:00:01\r\u001b[K     |████████████████████            | 1.2MB 18.7MB/s eta 0:00:01\r\u001b[K     |████████████████████▎           | 1.2MB 18.7MB/s eta 0:00:01\r\u001b[K     |████████████████████▍           | 1.2MB 18.7MB/s eta 0:00:01\r\u001b[K     |████████████████████▋           | 1.2MB 18.7MB/s eta 0:00:01\r\u001b[K     |████████████████████▊           | 1.3MB 18.7MB/s eta 0:00:01\r\u001b[K     |█████████████████████           | 1.3MB 18.7MB/s eta 0:00:01\r\u001b[K     |█████████████████████           | 1.3MB 18.7MB/s eta 0:00:01\r\u001b[K     |█████████████████████▎          | 1.3MB 18.7MB/s eta 0:00:01\r\u001b[K     |█████████████████████▍          | 1.3MB 18.7MB/s eta 0:00:01\r\u001b[K     |█████████████████████▋          | 1.3MB 18.7MB/s eta 0:00:01\r\u001b[K     |█████████████████████▊          | 1.3MB 18.7MB/s eta 0:00:01\r\u001b[K     |██████████████████████          | 1.3MB 18.7MB/s eta 0:00:01\r\u001b[K     |██████████████████████          | 1.3MB 18.7MB/s eta 0:00:01\r\u001b[K     |██████████████████████▎         | 1.4MB 18.7MB/s eta 0:00:01\r\u001b[K     |██████████████████████▍         | 1.4MB 18.7MB/s eta 0:00:01\r\u001b[K     |██████████████████████▋         | 1.4MB 18.7MB/s eta 0:00:01\r\u001b[K     |██████████████████████▊         | 1.4MB 18.7MB/s eta 0:00:01\r\u001b[K     |███████████████████████         | 1.4MB 18.7MB/s eta 0:00:01\r\u001b[K     |███████████████████████         | 1.4MB 18.7MB/s eta 0:00:01\r\u001b[K     |███████████████████████▎        | 1.4MB 18.7MB/s eta 0:00:01\r\u001b[K     |███████████████████████▌        | 1.4MB 18.7MB/s eta 0:00:01\r\u001b[K     |███████████████████████▋        | 1.4MB 18.7MB/s eta 0:00:01\r\u001b[K     |███████████████████████▉        | 1.4MB 18.7MB/s eta 0:00:01\r\u001b[K     |████████████████████████        | 1.5MB 18.7MB/s eta 0:00:01\r\u001b[K     |████████████████████████▏       | 1.5MB 18.7MB/s eta 0:00:01\r\u001b[K     |████████████████████████▎       | 1.5MB 18.7MB/s eta 0:00:01\r\u001b[K     |████████████████████████▌       | 1.5MB 18.7MB/s eta 0:00:01\r\u001b[K     |████████████████████████▋       | 1.5MB 18.7MB/s eta 0:00:01\r\u001b[K     |████████████████████████▉       | 1.5MB 18.7MB/s eta 0:00:01\r\u001b[K     |█████████████████████████       | 1.5MB 18.7MB/s eta 0:00:01\r\u001b[K     |█████████████████████████▏      | 1.5MB 18.7MB/s eta 0:00:01\r\u001b[K     |█████████████████████████▎      | 1.5MB 18.7MB/s eta 0:00:01\r\u001b[K     |█████████████████████████▌      | 1.5MB 18.7MB/s eta 0:00:01\r\u001b[K     |█████████████████████████▋      | 1.6MB 18.7MB/s eta 0:00:01\r\u001b[K     |█████████████████████████▉      | 1.6MB 18.7MB/s eta 0:00:01\r\u001b[K     |██████████████████████████      | 1.6MB 18.7MB/s eta 0:00:01\r\u001b[K     |██████████████████████████▏     | 1.6MB 18.7MB/s eta 0:00:01\r\u001b[K     |██████████████████████████▎     | 1.6MB 18.7MB/s eta 0:00:01\r\u001b[K     |██████████████████████████▌     | 1.6MB 18.7MB/s eta 0:00:01\r\u001b[K     |██████████████████████████▋     | 1.6MB 18.7MB/s eta 0:00:01\r\u001b[K     |██████████████████████████▉     | 1.6MB 18.7MB/s eta 0:00:01\r\u001b[K     |███████████████████████████     | 1.6MB 18.7MB/s eta 0:00:01\r\u001b[K     |███████████████████████████▏    | 1.6MB 18.7MB/s eta 0:00:01\r\u001b[K     |███████████████████████████▎    | 1.7MB 18.7MB/s eta 0:00:01\r\u001b[K     |███████████████████████████▌    | 1.7MB 18.7MB/s eta 0:00:01\r\u001b[K     |███████████████████████████▋    | 1.7MB 18.7MB/s eta 0:00:01\r\u001b[K     |███████████████████████████▉    | 1.7MB 18.7MB/s eta 0:00:01\r\u001b[K     |████████████████████████████    | 1.7MB 18.7MB/s eta 0:00:01\r\u001b[K     |████████████████████████████▏   | 1.7MB 18.7MB/s eta 0:00:01\r\u001b[K     |████████████████████████████▍   | 1.7MB 18.7MB/s eta 0:00:01\r\u001b[K     |████████████████████████████▌   | 1.7MB 18.7MB/s eta 0:00:01\r\u001b[K     |████████████████████████████▊   | 1.7MB 18.7MB/s eta 0:00:01\r\u001b[K     |████████████████████████████▉   | 1.8MB 18.7MB/s eta 0:00:01\r\u001b[K     |█████████████████████████████   | 1.8MB 18.7MB/s eta 0:00:01\r\u001b[K     |█████████████████████████████▏  | 1.8MB 18.7MB/s eta 0:00:01\r\u001b[K     |█████████████████████████████▍  | 1.8MB 18.7MB/s eta 0:00:01\r\u001b[K     |█████████████████████████████▌  | 1.8MB 18.7MB/s eta 0:00:01\r\u001b[K     |█████████████████████████████▊  | 1.8MB 18.7MB/s eta 0:00:01\r\u001b[K     |█████████████████████████████▉  | 1.8MB 18.7MB/s eta 0:00:01\r\u001b[K     |██████████████████████████████  | 1.8MB 18.7MB/s eta 0:00:01\r\u001b[K     |██████████████████████████████▏ | 1.8MB 18.7MB/s eta 0:00:01\r\u001b[K     |██████████████████████████████▍ | 1.8MB 18.7MB/s eta 0:00:01\r\u001b[K     |██████████████████████████████▌ | 1.9MB 18.7MB/s eta 0:00:01\r\u001b[K     |██████████████████████████████▊ | 1.9MB 18.7MB/s eta 0:00:01\r\u001b[K     |██████████████████████████████▉ | 1.9MB 18.7MB/s eta 0:00:01\r\u001b[K     |███████████████████████████████ | 1.9MB 18.7MB/s eta 0:00:01\r\u001b[K     |███████████████████████████████▏| 1.9MB 18.7MB/s eta 0:00:01\r\u001b[K     |███████████████████████████████▍| 1.9MB 18.7MB/s eta 0:00:01\r\u001b[K     |███████████████████████████████▌| 1.9MB 18.7MB/s eta 0:00:01\r\u001b[K     |███████████████████████████████▊| 1.9MB 18.7MB/s eta 0:00:01\r\u001b[K     |███████████████████████████████▉| 1.9MB 18.7MB/s eta 0:00:01\r\u001b[K     |████████████████████████████████| 1.9MB 18.7MB/s \n",
            "\u001b[?25hRequirement already satisfied: torch==1.8.1 in /usr/local/lib/python3.7/dist-packages (from torchaudio) (1.8.1+cu101)\n",
            "Requirement already satisfied: numpy in /usr/local/lib/python3.7/dist-packages (from torch==1.8.1->torchaudio) (1.19.5)\n",
            "Requirement already satisfied: typing-extensions in /usr/local/lib/python3.7/dist-packages (from torch==1.8.1->torchaudio) (3.7.4.3)\n",
            "Installing collected packages: torchaudio\n",
            "Successfully installed torchaudio-0.8.1\n"
          ],
          "name": "stdout"
        }
      ]
    },
    {
      "cell_type": "code",
      "metadata": {
        "id": "28FN_CSkCgmm"
      },
      "source": [
        "from IPython.display import Audio\n",
        "\n",
        "## PyTorch things\n",
        "import torch\n",
        "import torchaudio\n",
        "import torch.nn.functional as F\n",
        "\n",
        "## Other libs\n",
        "import matplotlib.pyplot as plt\n",
        "import glob\n",
        "import os\n",
        "import random\n",
        "from tqdm import tqdm_notebook\n",
        "import torchsummary\n",
        "import numpy as np\n",
        "from sklearn.metrics import confusion_matrix\n",
        "from sklearn.preprocessing import normalize\n",
        "import pandas as pd\n",
        "import seaborn as sn\n",
        "import librosa\n",
        "from os import listdir\n",
        "from pydub import AudioSegment\n",
        "\n",
        "# feature extractoring and preprocessing data\n",
        "import librosa\n",
        "import pandas as pd\n",
        "import numpy as np\n",
        "import matplotlib.pyplot as plt\n",
        "%matplotlib inline\n",
        "import os\n",
        "from PIL import Image\n",
        "import pathlib\n",
        "import csv\n",
        "\n",
        "# Preprocessing\n",
        "from sklearn.model_selection import train_test_split\n",
        "from sklearn.preprocessing import LabelEncoder, StandardScaler\n",
        "\n",
        "#Keras\n",
        "import keras\n",
        "\n",
        "import warnings\n",
        "warnings.filterwarnings('ignore')"
      ],
      "execution_count": 11,
      "outputs": []
    },
    {
      "cell_type": "code",
      "metadata": {
        "colab": {
          "base_uri": "https://localhost:8080/"
        },
        "id": "rSu1s_QeCjpO",
        "outputId": "843633d9-26aa-44d1-aab8-baa7468e16d2"
      },
      "source": [
        "!pip install pydub"
      ],
      "execution_count": 5,
      "outputs": [
        {
          "output_type": "stream",
          "text": [
            "Collecting pydub\n",
            "  Downloading https://files.pythonhosted.org/packages/a6/53/d78dc063216e62fc55f6b2eebb447f6a4b0a59f55c8406376f76bf959b08/pydub-0.25.1-py2.py3-none-any.whl\n",
            "Installing collected packages: pydub\n",
            "Successfully installed pydub-0.25.1\n"
          ],
          "name": "stdout"
        }
      ]
    },
    {
      "cell_type": "code",
      "metadata": {
        "colab": {
          "base_uri": "https://localhost:8080/"
        },
        "id": "ZIU0wpKiClX8",
        "outputId": "0e62d667-d12b-4689-c5da-0b44c6f2f2e0"
      },
      "source": [
        "\n",
        "counter = 0\n",
        "for f in listdir('genrenew'):\n",
        "    \n",
        "    os.mkdir('Wav_data/{}'.format(f)) \n",
        "    for f1 in listdir('genrenew/{}'.format(f)):\n",
        "      counter += 1\n",
        "      sound = AudioSegment.from_mp3(\"genrenew/{}/{}\".format(f,f1))\n",
        "      sound.export(\"Wav_data/{}/{}.wav\".format(f,f1[:-4]), format=\"wav\")\n",
        "\n",
        "print(counter)     "
      ],
      "execution_count": null,
      "outputs": [
        {
          "output_type": "stream",
          "text": [
            "500\n"
          ],
          "name": "stdout"
        }
      ]
    },
    {
      "cell_type": "code",
      "metadata": {
        "colab": {
          "base_uri": "https://localhost:8080/"
        },
        "id": "c_Nilk9sJLfz",
        "outputId": "8e20d103-68bd-4913-eefa-99e7891ccca0"
      },
      "source": [
        "waveform,sample_rate = torchaudio.load(\"Wav_data/bollypop/bp01.wav\")\n",
        "print(waveform.shape)\n",
        "print(sample_rate)\n",
        "if waveform.shape[1] < 128000:\n",
        "    print('#')\n",
        "    waveform = F.pad(input=waveform, pad=(0, 128000 - waveform.shape[1]), mode='constant', value=0)\n",
        "elif waveform.shape[1] > 128000:\n",
        "    print('#')\n",
        "    waveform[:,:128] = waveform[:128000]\n",
        "\n",
        "\n",
        "mfcc =torchaudio.transforms.MFCC(n_mfcc=12, log_mels=True)(waveform)\n",
        "print(mfcc.size())"
      ],
      "execution_count": null,
      "outputs": [
        {
          "output_type": "stream",
          "text": [
            "torch.Size([2, 1984500])\n",
            "44100\n",
            "#\n",
            "torch.Size([2, 12, 9923])\n"
          ],
          "name": "stdout"
        },
        {
          "output_type": "stream",
          "text": [
            "/usr/local/lib/python3.7/dist-packages/torchaudio/functional/functional.py:358: UserWarning: At least one mel filterbank has all zero values. The value for `n_mels` (128) may be set too high. Or, the value for `n_freqs` (201) may be set too low.\n",
            "  \"At least one mel filterbank has all zero values. \"\n"
          ],
          "name": "stderr"
        }
      ]
    },
    {
      "cell_type": "code",
      "metadata": {
        "colab": {
          "base_uri": "https://localhost:8080/"
        },
        "id": "NL9nKtazwxnC",
        "outputId": "e97d50e9-40d2-45d7-d5ad-391c0525d3d7"
      },
      "source": [
        "\n",
        "y, sr = librosa.load(\"Wav_data/sufi/su100.wav\", mono=True, duration=30)\n",
        "print(len(y))\n",
        "mfcc = librosa.feature.mfcc(y=y, sr=sr)\n",
        "print(mfcc.shape)"
      ],
      "execution_count": null,
      "outputs": [
        {
          "output_type": "stream",
          "text": [
            "661500\n",
            "(20, 1292)\n"
          ],
          "name": "stdout"
        }
      ]
    },
    {
      "cell_type": "code",
      "metadata": {
        "id": "KvQsU7ZqxLsX"
      },
      "source": [
        "header = 'filename chroma_stft rmse spectral_centroid spectral_bandwidth rolloff zero_crossing_rate'\n",
        "for i in range(1, 21):\n",
        "    header += f' mfcc{i}'\n",
        "header += ' label'\n",
        "header = header.split()\n",
        "\n"
      ],
      "execution_count": 7,
      "outputs": []
    },
    {
      "cell_type": "code",
      "metadata": {
        "id": "G7iorKZUKpxA"
      },
      "source": [
        "data_folder = 'Wav_data'\n",
        "data_set = []\n",
        "dictionary_map ={}\n",
        "\n",
        "file = open('data.csv', 'w', newline='')\n",
        "with file:\n",
        "    writer = csv.writer(file)\n",
        "    writer.writerow(header)\n",
        "\n",
        "for f in listdir(data_folder):\n",
        "    for f1 in listdir('Wav_data/{}'.format(f)):\n",
        "        songname = \"Wav_data/{}/{}\".format(f,f1)\n",
        "        y, sr = librosa.load(songname, mono=True, duration=30)\n",
        "        chroma_stft = librosa.feature.chroma_stft(y=y, sr=sr)\n",
        "        spec_cent = librosa.feature.spectral_centroid(y=y, sr=sr)\n",
        "        spec_bw = librosa.feature.spectral_bandwidth(y=y, sr=sr)\n",
        "        rolloff = librosa.feature.spectral_rolloff(y=y, sr=sr)\n",
        "        zcr = librosa.feature.zero_crossing_rate(y)\n",
        "        mfcc = librosa.feature.mfcc(y=y, sr=sr)\n",
        "        to_append = f'{f1} {np.mean(chroma_stft)}  {np.mean(spec_cent)} {np.mean(spec_bw)} {np.mean(rolloff)} {np.mean(zcr)}'    \n",
        "        for e in mfcc:\n",
        "            to_append += f' {np.mean(e)}'\n",
        "        to_append += f' {f}'\n",
        "        file = open('data.csv', 'a', newline='')\n",
        "        with file:\n",
        "            writer = csv.writer(file)\n",
        "            writer.writerow(to_append.split())"
      ],
      "execution_count": 15,
      "outputs": []
    },
    {
      "cell_type": "code",
      "metadata": {
        "id": "eaAAPwGQ3VRM"
      },
      "source": [
        "data = pd.read_csv('data.csv')\n"
      ],
      "execution_count": 18,
      "outputs": []
    },
    {
      "cell_type": "code",
      "metadata": {
        "colab": {
          "base_uri": "https://localhost:8080/"
        },
        "id": "b8CSR08T4pa0",
        "outputId": "6e246e89-e489-4d9c-9ca1-9a7095e0068e"
      },
      "source": [
        "header = 'filename chroma_stft  spectral_centroid spectral_bandwidth rolloff zero_crossing_rate'.split()\n",
        "header"
      ],
      "execution_count": 19,
      "outputs": [
        {
          "output_type": "execute_result",
          "data": {
            "text/plain": [
              "['filename',\n",
              " 'chroma_stft',\n",
              " 'spectral_centroid',\n",
              " 'spectral_bandwidth',\n",
              " 'rolloff',\n",
              " 'zero_crossing_rate']"
            ]
          },
          "metadata": {
            "tags": []
          },
          "execution_count": 19
        }
      ]
    },
    {
      "cell_type": "code",
      "metadata": {
        "colab": {
          "base_uri": "https://localhost:8080/"
        },
        "id": "iMuIJ18s3VUs",
        "outputId": "0b26859d-577b-41d7-d815-098a8de1fbaa"
      },
      "source": [
        "ls = [\"mfcc{}\".format(i) for i in range(1,21)]\n",
        "col = header + ls + ['label']\n",
        "col"
      ],
      "execution_count": 20,
      "outputs": [
        {
          "output_type": "execute_result",
          "data": {
            "text/plain": [
              "['filename',\n",
              " 'chroma_stft',\n",
              " 'spectral_centroid',\n",
              " 'spectral_bandwidth',\n",
              " 'rolloff',\n",
              " 'zero_crossing_rate',\n",
              " 'mfcc1',\n",
              " 'mfcc2',\n",
              " 'mfcc3',\n",
              " 'mfcc4',\n",
              " 'mfcc5',\n",
              " 'mfcc6',\n",
              " 'mfcc7',\n",
              " 'mfcc8',\n",
              " 'mfcc9',\n",
              " 'mfcc10',\n",
              " 'mfcc11',\n",
              " 'mfcc12',\n",
              " 'mfcc13',\n",
              " 'mfcc14',\n",
              " 'mfcc15',\n",
              " 'mfcc16',\n",
              " 'mfcc17',\n",
              " 'mfcc18',\n",
              " 'mfcc19',\n",
              " 'mfcc20',\n",
              " 'label']"
            ]
          },
          "metadata": {
            "tags": []
          },
          "execution_count": 20
        }
      ]
    },
    {
      "cell_type": "code",
      "metadata": {
        "colab": {
          "base_uri": "https://localhost:8080/"
        },
        "id": "WpsGS5IH5AO0",
        "outputId": "3165c49c-da6f-4d94-ff86-b63720d65643"
      },
      "source": [
        "len(col)"
      ],
      "execution_count": 22,
      "outputs": [
        {
          "output_type": "execute_result",
          "data": {
            "text/plain": [
              "27"
            ]
          },
          "metadata": {
            "tags": []
          },
          "execution_count": 22
        }
      ]
    },
    {
      "cell_type": "code",
      "metadata": {
        "colab": {
          "base_uri": "https://localhost:8080/",
          "height": 419
        },
        "id": "mSOoegxO3VXx",
        "outputId": "dd82162a-2166-4741-f351-4d810a5c82fa"
      },
      "source": [
        "data.columns = col\n",
        "data"
      ],
      "execution_count": 23,
      "outputs": [
        {
          "output_type": "execute_result",
          "data": {
            "text/html": [
              "<div>\n",
              "<style scoped>\n",
              "    .dataframe tbody tr th:only-of-type {\n",
              "        vertical-align: middle;\n",
              "    }\n",
              "\n",
              "    .dataframe tbody tr th {\n",
              "        vertical-align: top;\n",
              "    }\n",
              "\n",
              "    .dataframe thead th {\n",
              "        text-align: right;\n",
              "    }\n",
              "</style>\n",
              "<table border=\"1\" class=\"dataframe\">\n",
              "  <thead>\n",
              "    <tr style=\"text-align: right;\">\n",
              "      <th></th>\n",
              "      <th>filename</th>\n",
              "      <th>chroma_stft</th>\n",
              "      <th>spectral_centroid</th>\n",
              "      <th>spectral_bandwidth</th>\n",
              "      <th>rolloff</th>\n",
              "      <th>zero_crossing_rate</th>\n",
              "      <th>mfcc1</th>\n",
              "      <th>mfcc2</th>\n",
              "      <th>mfcc3</th>\n",
              "      <th>mfcc4</th>\n",
              "      <th>mfcc5</th>\n",
              "      <th>mfcc6</th>\n",
              "      <th>mfcc7</th>\n",
              "      <th>mfcc8</th>\n",
              "      <th>mfcc9</th>\n",
              "      <th>mfcc10</th>\n",
              "      <th>mfcc11</th>\n",
              "      <th>mfcc12</th>\n",
              "      <th>mfcc13</th>\n",
              "      <th>mfcc14</th>\n",
              "      <th>mfcc15</th>\n",
              "      <th>mfcc16</th>\n",
              "      <th>mfcc17</th>\n",
              "      <th>mfcc18</th>\n",
              "      <th>mfcc19</th>\n",
              "      <th>mfcc20</th>\n",
              "      <th>label</th>\n",
              "    </tr>\n",
              "  </thead>\n",
              "  <tbody>\n",
              "    <tr>\n",
              "      <th>0</th>\n",
              "      <td>scl02.wav</td>\n",
              "      <td>0.393630</td>\n",
              "      <td>2793.508825</td>\n",
              "      <td>2724.947491</td>\n",
              "      <td>6103.588092</td>\n",
              "      <td>0.141464</td>\n",
              "      <td>-46.897053</td>\n",
              "      <td>69.555717</td>\n",
              "      <td>-2.016524</td>\n",
              "      <td>23.380373</td>\n",
              "      <td>6.623618</td>\n",
              "      <td>2.421029</td>\n",
              "      <td>-5.757703</td>\n",
              "      <td>5.332809</td>\n",
              "      <td>-4.752931</td>\n",
              "      <td>11.111671</td>\n",
              "      <td>-1.101193</td>\n",
              "      <td>3.130967</td>\n",
              "      <td>1.132255</td>\n",
              "      <td>-1.387890</td>\n",
              "      <td>-5.705366</td>\n",
              "      <td>4.561856</td>\n",
              "      <td>-6.105927</td>\n",
              "      <td>6.502610</td>\n",
              "      <td>-5.407854</td>\n",
              "      <td>-0.274215</td>\n",
              "      <td>semiclassical</td>\n",
              "    </tr>\n",
              "    <tr>\n",
              "      <th>1</th>\n",
              "      <td>scl18.wav</td>\n",
              "      <td>0.240682</td>\n",
              "      <td>2767.955528</td>\n",
              "      <td>2433.403858</td>\n",
              "      <td>5631.765945</td>\n",
              "      <td>0.133941</td>\n",
              "      <td>-206.413574</td>\n",
              "      <td>60.938148</td>\n",
              "      <td>-25.842216</td>\n",
              "      <td>-14.850534</td>\n",
              "      <td>-41.712364</td>\n",
              "      <td>7.005772</td>\n",
              "      <td>-34.143299</td>\n",
              "      <td>-8.869285</td>\n",
              "      <td>-9.731552</td>\n",
              "      <td>-11.385138</td>\n",
              "      <td>17.747730</td>\n",
              "      <td>-2.170400</td>\n",
              "      <td>-18.448486</td>\n",
              "      <td>-13.545798</td>\n",
              "      <td>-13.720221</td>\n",
              "      <td>-10.181333</td>\n",
              "      <td>-11.967281</td>\n",
              "      <td>-4.072862</td>\n",
              "      <td>-9.774343</td>\n",
              "      <td>-5.852347</td>\n",
              "      <td>semiclassical</td>\n",
              "    </tr>\n",
              "    <tr>\n",
              "      <th>2</th>\n",
              "      <td>scl17.wav</td>\n",
              "      <td>0.363222</td>\n",
              "      <td>2308.646967</td>\n",
              "      <td>2795.509268</td>\n",
              "      <td>5635.874254</td>\n",
              "      <td>0.075055</td>\n",
              "      <td>-76.941551</td>\n",
              "      <td>94.791420</td>\n",
              "      <td>24.020489</td>\n",
              "      <td>17.312582</td>\n",
              "      <td>6.660640</td>\n",
              "      <td>7.705852</td>\n",
              "      <td>5.055718</td>\n",
              "      <td>4.532353</td>\n",
              "      <td>-5.291880</td>\n",
              "      <td>7.381964</td>\n",
              "      <td>-3.674016</td>\n",
              "      <td>6.701849</td>\n",
              "      <td>5.979047</td>\n",
              "      <td>4.467857</td>\n",
              "      <td>3.644095</td>\n",
              "      <td>-0.122741</td>\n",
              "      <td>4.530957</td>\n",
              "      <td>4.428706</td>\n",
              "      <td>2.336652</td>\n",
              "      <td>1.973673</td>\n",
              "      <td>semiclassical</td>\n",
              "    </tr>\n",
              "    <tr>\n",
              "      <th>3</th>\n",
              "      <td>scl16.wav</td>\n",
              "      <td>0.342466</td>\n",
              "      <td>2348.082736</td>\n",
              "      <td>2770.920699</td>\n",
              "      <td>5594.391171</td>\n",
              "      <td>0.080740</td>\n",
              "      <td>-111.776947</td>\n",
              "      <td>91.454613</td>\n",
              "      <td>19.832253</td>\n",
              "      <td>15.925972</td>\n",
              "      <td>2.723891</td>\n",
              "      <td>2.694730</td>\n",
              "      <td>8.236013</td>\n",
              "      <td>4.667757</td>\n",
              "      <td>-1.685444</td>\n",
              "      <td>8.099051</td>\n",
              "      <td>-6.971786</td>\n",
              "      <td>2.893494</td>\n",
              "      <td>-0.675740</td>\n",
              "      <td>1.522021</td>\n",
              "      <td>5.271090</td>\n",
              "      <td>2.178024</td>\n",
              "      <td>10.654481</td>\n",
              "      <td>5.887405</td>\n",
              "      <td>2.582098</td>\n",
              "      <td>5.263594</td>\n",
              "      <td>semiclassical</td>\n",
              "    </tr>\n",
              "    <tr>\n",
              "      <th>4</th>\n",
              "      <td>scl15.wav</td>\n",
              "      <td>0.331118</td>\n",
              "      <td>2053.418933</td>\n",
              "      <td>2578.628413</td>\n",
              "      <td>4946.695088</td>\n",
              "      <td>0.068787</td>\n",
              "      <td>-145.011810</td>\n",
              "      <td>107.945290</td>\n",
              "      <td>28.677046</td>\n",
              "      <td>19.465176</td>\n",
              "      <td>3.723547</td>\n",
              "      <td>-2.580879</td>\n",
              "      <td>-10.067541</td>\n",
              "      <td>2.661513</td>\n",
              "      <td>-13.122783</td>\n",
              "      <td>12.430797</td>\n",
              "      <td>0.859013</td>\n",
              "      <td>2.073150</td>\n",
              "      <td>5.698961</td>\n",
              "      <td>-3.439064</td>\n",
              "      <td>5.691664</td>\n",
              "      <td>-6.801965</td>\n",
              "      <td>2.424040</td>\n",
              "      <td>-4.921625</td>\n",
              "      <td>-3.753243</td>\n",
              "      <td>-0.622428</td>\n",
              "      <td>semiclassical</td>\n",
              "    </tr>\n",
              "    <tr>\n",
              "      <th>...</th>\n",
              "      <td>...</td>\n",
              "      <td>...</td>\n",
              "      <td>...</td>\n",
              "      <td>...</td>\n",
              "      <td>...</td>\n",
              "      <td>...</td>\n",
              "      <td>...</td>\n",
              "      <td>...</td>\n",
              "      <td>...</td>\n",
              "      <td>...</td>\n",
              "      <td>...</td>\n",
              "      <td>...</td>\n",
              "      <td>...</td>\n",
              "      <td>...</td>\n",
              "      <td>...</td>\n",
              "      <td>...</td>\n",
              "      <td>...</td>\n",
              "      <td>...</td>\n",
              "      <td>...</td>\n",
              "      <td>...</td>\n",
              "      <td>...</td>\n",
              "      <td>...</td>\n",
              "      <td>...</td>\n",
              "      <td>...</td>\n",
              "      <td>...</td>\n",
              "      <td>...</td>\n",
              "      <td>...</td>\n",
              "    </tr>\n",
              "    <tr>\n",
              "      <th>493</th>\n",
              "      <td>bp93.wav</td>\n",
              "      <td>0.352856</td>\n",
              "      <td>2125.628757</td>\n",
              "      <td>2565.889544</td>\n",
              "      <td>4821.062514</td>\n",
              "      <td>0.069752</td>\n",
              "      <td>-41.297001</td>\n",
              "      <td>98.295143</td>\n",
              "      <td>10.340979</td>\n",
              "      <td>20.613989</td>\n",
              "      <td>9.138204</td>\n",
              "      <td>10.759584</td>\n",
              "      <td>4.724198</td>\n",
              "      <td>2.666525</td>\n",
              "      <td>-4.292716</td>\n",
              "      <td>14.211137</td>\n",
              "      <td>-4.580522</td>\n",
              "      <td>11.360565</td>\n",
              "      <td>-4.500573</td>\n",
              "      <td>4.009302</td>\n",
              "      <td>3.840777</td>\n",
              "      <td>-1.643225</td>\n",
              "      <td>-0.884592</td>\n",
              "      <td>5.073890</td>\n",
              "      <td>-2.874372</td>\n",
              "      <td>4.115224</td>\n",
              "      <td>bollypop</td>\n",
              "    </tr>\n",
              "    <tr>\n",
              "      <th>494</th>\n",
              "      <td>bp92.wav</td>\n",
              "      <td>0.288326</td>\n",
              "      <td>1790.175959</td>\n",
              "      <td>2098.668743</td>\n",
              "      <td>3559.620142</td>\n",
              "      <td>0.078040</td>\n",
              "      <td>-82.100998</td>\n",
              "      <td>121.521530</td>\n",
              "      <td>-13.012499</td>\n",
              "      <td>16.843102</td>\n",
              "      <td>0.983627</td>\n",
              "      <td>1.952559</td>\n",
              "      <td>-1.421112</td>\n",
              "      <td>-6.053286</td>\n",
              "      <td>-16.322002</td>\n",
              "      <td>9.392649</td>\n",
              "      <td>-13.231021</td>\n",
              "      <td>4.165483</td>\n",
              "      <td>-9.965364</td>\n",
              "      <td>-3.415564</td>\n",
              "      <td>-1.448866</td>\n",
              "      <td>-6.125137</td>\n",
              "      <td>-2.770978</td>\n",
              "      <td>0.422707</td>\n",
              "      <td>-8.740165</td>\n",
              "      <td>-1.025928</td>\n",
              "      <td>bollypop</td>\n",
              "    </tr>\n",
              "    <tr>\n",
              "      <th>495</th>\n",
              "      <td>bp89.wav</td>\n",
              "      <td>0.258287</td>\n",
              "      <td>1970.880200</td>\n",
              "      <td>2250.932461</td>\n",
              "      <td>4033.792275</td>\n",
              "      <td>0.076990</td>\n",
              "      <td>-196.116074</td>\n",
              "      <td>87.885963</td>\n",
              "      <td>3.259030</td>\n",
              "      <td>13.181340</td>\n",
              "      <td>-4.928052</td>\n",
              "      <td>-4.303050</td>\n",
              "      <td>11.983802</td>\n",
              "      <td>-8.931230</td>\n",
              "      <td>-17.724360</td>\n",
              "      <td>7.794697</td>\n",
              "      <td>-10.975510</td>\n",
              "      <td>2.515651</td>\n",
              "      <td>-14.814303</td>\n",
              "      <td>-11.053336</td>\n",
              "      <td>0.575472</td>\n",
              "      <td>-12.467253</td>\n",
              "      <td>-10.170362</td>\n",
              "      <td>2.525185</td>\n",
              "      <td>-22.598131</td>\n",
              "      <td>-6.019463</td>\n",
              "      <td>bollypop</td>\n",
              "    </tr>\n",
              "    <tr>\n",
              "      <th>496</th>\n",
              "      <td>bp91.wav</td>\n",
              "      <td>0.277270</td>\n",
              "      <td>2092.021049</td>\n",
              "      <td>2394.208032</td>\n",
              "      <td>4409.115005</td>\n",
              "      <td>0.084209</td>\n",
              "      <td>-97.125534</td>\n",
              "      <td>103.496399</td>\n",
              "      <td>3.592188</td>\n",
              "      <td>12.496719</td>\n",
              "      <td>-4.337034</td>\n",
              "      <td>-2.966832</td>\n",
              "      <td>6.769993</td>\n",
              "      <td>-6.594515</td>\n",
              "      <td>-10.089369</td>\n",
              "      <td>10.556827</td>\n",
              "      <td>-13.134584</td>\n",
              "      <td>2.124217</td>\n",
              "      <td>-14.422090</td>\n",
              "      <td>-0.825191</td>\n",
              "      <td>3.562453</td>\n",
              "      <td>-8.010792</td>\n",
              "      <td>-2.717022</td>\n",
              "      <td>9.178461</td>\n",
              "      <td>-15.040816</td>\n",
              "      <td>-0.868211</td>\n",
              "      <td>bollypop</td>\n",
              "    </tr>\n",
              "    <tr>\n",
              "      <th>497</th>\n",
              "      <td>bp88.wav</td>\n",
              "      <td>0.286380</td>\n",
              "      <td>2116.093249</td>\n",
              "      <td>2405.942313</td>\n",
              "      <td>4594.230553</td>\n",
              "      <td>0.085576</td>\n",
              "      <td>-80.264076</td>\n",
              "      <td>103.881989</td>\n",
              "      <td>4.279035</td>\n",
              "      <td>25.545031</td>\n",
              "      <td>6.028941</td>\n",
              "      <td>4.852889</td>\n",
              "      <td>-4.265232</td>\n",
              "      <td>8.187439</td>\n",
              "      <td>-10.951738</td>\n",
              "      <td>6.816873</td>\n",
              "      <td>-5.292319</td>\n",
              "      <td>0.484553</td>\n",
              "      <td>-6.582731</td>\n",
              "      <td>0.305547</td>\n",
              "      <td>-2.681867</td>\n",
              "      <td>-2.128236</td>\n",
              "      <td>-3.320403</td>\n",
              "      <td>7.179440</td>\n",
              "      <td>-10.671123</td>\n",
              "      <td>-0.946362</td>\n",
              "      <td>bollypop</td>\n",
              "    </tr>\n",
              "  </tbody>\n",
              "</table>\n",
              "<p>498 rows × 27 columns</p>\n",
              "</div>"
            ],
            "text/plain": [
              "      filename  chroma_stft  ...    mfcc20          label\n",
              "0    scl02.wav     0.393630  ... -0.274215  semiclassical\n",
              "1    scl18.wav     0.240682  ... -5.852347  semiclassical\n",
              "2    scl17.wav     0.363222  ...  1.973673  semiclassical\n",
              "3    scl16.wav     0.342466  ...  5.263594  semiclassical\n",
              "4    scl15.wav     0.331118  ... -0.622428  semiclassical\n",
              "..         ...          ...  ...       ...            ...\n",
              "493   bp93.wav     0.352856  ...  4.115224       bollypop\n",
              "494   bp92.wav     0.288326  ... -1.025928       bollypop\n",
              "495   bp89.wav     0.258287  ... -6.019463       bollypop\n",
              "496   bp91.wav     0.277270  ... -0.868211       bollypop\n",
              "497   bp88.wav     0.286380  ... -0.946362       bollypop\n",
              "\n",
              "[498 rows x 27 columns]"
            ]
          },
          "metadata": {
            "tags": []
          },
          "execution_count": 23
        }
      ]
    },
    {
      "cell_type": "code",
      "metadata": {
        "id": "AANm6k5d3VaU"
      },
      "source": [
        "# Dropping unneccesary columns\n",
        "data = data.drop(['filename'],axis=1)"
      ],
      "execution_count": 24,
      "outputs": []
    },
    {
      "cell_type": "code",
      "metadata": {
        "id": "NoJW7q4Z3VdG"
      },
      "source": [
        "genre_list = data.iloc[:, -1]\n",
        "encoder = LabelEncoder()\n",
        "y = encoder.fit_transform(genre_list)"
      ],
      "execution_count": 25,
      "outputs": []
    },
    {
      "cell_type": "code",
      "metadata": {
        "id": "4DjvT6pn3Vgy"
      },
      "source": [
        "scaler = StandardScaler()\n",
        "X = scaler.fit_transform(np.array(data.iloc[:, :-1], dtype = float))"
      ],
      "execution_count": 26,
      "outputs": []
    },
    {
      "cell_type": "code",
      "metadata": {
        "id": "XZd_RGjK5fd_"
      },
      "source": [
        "X_train, X_test, y_train, y_test = train_test_split(X, y, test_size=0.2)"
      ],
      "execution_count": 34,
      "outputs": []
    },
    {
      "cell_type": "code",
      "metadata": {
        "id": "B5Lz9Yy45ft2"
      },
      "source": [
        "from keras import models\n",
        "from keras import layers\n",
        "\n",
        "model = models.Sequential()\n",
        "model.add(layers.Dense(256, activation='relu', input_shape=(X_train.shape[1],)))\n",
        "\n",
        "model.add(layers.Dense(128, activation='relu'))\n",
        "\n",
        "model.add(layers.Dense(64, activation='relu'))\n",
        "\n",
        "model.add(layers.Dense(5, activation='softmax'))"
      ],
      "execution_count": 35,
      "outputs": []
    },
    {
      "cell_type": "code",
      "metadata": {
        "id": "PebidTmF5fx8"
      },
      "source": [
        "model.compile(optimizer='adam',\n",
        "              loss='sparse_categorical_crossentropy',\n",
        "              metrics=['accuracy'])"
      ],
      "execution_count": 36,
      "outputs": []
    },
    {
      "cell_type": "code",
      "metadata": {
        "colab": {
          "base_uri": "https://localhost:8080/"
        },
        "id": "4M_PTFgd5f3F",
        "outputId": "d7463ff9-40f6-42ac-fc0f-dcb7ede4d93c"
      },
      "source": [
        "history = model.fit(X_train,\n",
        "                    y_train,\n",
        "                    epochs=20,\n",
        "                    batch_size=128)"
      ],
      "execution_count": 37,
      "outputs": [
        {
          "output_type": "stream",
          "text": [
            "Epoch 1/20\n",
            "4/4 [==============================] - 0s 4ms/step - loss: 1.6261 - accuracy: 0.2031\n",
            "Epoch 2/20\n",
            "4/4 [==============================] - 0s 3ms/step - loss: 1.4225 - accuracy: 0.4699\n",
            "Epoch 3/20\n",
            "4/4 [==============================] - 0s 3ms/step - loss: 1.2865 - accuracy: 0.5819\n",
            "Epoch 4/20\n",
            "4/4 [==============================] - 0s 3ms/step - loss: 1.1512 - accuracy: 0.6893\n",
            "Epoch 5/20\n",
            "4/4 [==============================] - 0s 3ms/step - loss: 1.0305 - accuracy: 0.7424\n",
            "Epoch 6/20\n",
            "4/4 [==============================] - 0s 3ms/step - loss: 0.9439 - accuracy: 0.7095\n",
            "Epoch 7/20\n",
            "4/4 [==============================] - 0s 3ms/step - loss: 0.8503 - accuracy: 0.7315\n",
            "Epoch 8/20\n",
            "4/4 [==============================] - 0s 3ms/step - loss: 0.7721 - accuracy: 0.7368\n",
            "Epoch 9/20\n",
            "4/4 [==============================] - 0s 3ms/step - loss: 0.6976 - accuracy: 0.7438\n",
            "Epoch 10/20\n",
            "4/4 [==============================] - 0s 3ms/step - loss: 0.6589 - accuracy: 0.7733\n",
            "Epoch 11/20\n",
            "4/4 [==============================] - 0s 3ms/step - loss: 0.6121 - accuracy: 0.8068\n",
            "Epoch 12/20\n",
            "4/4 [==============================] - 0s 3ms/step - loss: 0.5834 - accuracy: 0.8033\n",
            "Epoch 13/20\n",
            "4/4 [==============================] - 0s 3ms/step - loss: 0.5438 - accuracy: 0.8084\n",
            "Epoch 14/20\n",
            "4/4 [==============================] - 0s 3ms/step - loss: 0.5002 - accuracy: 0.8388\n",
            "Epoch 15/20\n",
            "4/4 [==============================] - 0s 3ms/step - loss: 0.4923 - accuracy: 0.8282\n",
            "Epoch 16/20\n",
            "4/4 [==============================] - 0s 5ms/step - loss: 0.4479 - accuracy: 0.8372\n",
            "Epoch 17/20\n",
            "4/4 [==============================] - 0s 4ms/step - loss: 0.4089 - accuracy: 0.8617\n",
            "Epoch 18/20\n",
            "4/4 [==============================] - 0s 3ms/step - loss: 0.4044 - accuracy: 0.8628\n",
            "Epoch 19/20\n",
            "4/4 [==============================] - 0s 4ms/step - loss: 0.3721 - accuracy: 0.8811\n",
            "Epoch 20/20\n",
            "4/4 [==============================] - 0s 3ms/step - loss: 0.3638 - accuracy: 0.8781\n"
          ],
          "name": "stdout"
        }
      ]
    },
    {
      "cell_type": "code",
      "metadata": {
        "colab": {
          "base_uri": "https://localhost:8080/"
        },
        "id": "fG3sgNv05f_Y",
        "outputId": "f3a253b7-0094-488d-cec8-5d80249420ad"
      },
      "source": [
        "test_loss, test_acc = model.evaluate(X_test,y_test)"
      ],
      "execution_count": 38,
      "outputs": [
        {
          "output_type": "stream",
          "text": [
            "4/4 [==============================] - 0s 3ms/step - loss: 0.6265 - accuracy: 0.8000\n"
          ],
          "name": "stdout"
        }
      ]
    },
    {
      "cell_type": "code",
      "metadata": {
        "colab": {
          "base_uri": "https://localhost:8080/"
        },
        "id": "_Y1V9nqt51B2",
        "outputId": "397341d6-b0e3-487d-930f-61bad6fc6de9"
      },
      "source": [
        "print('test_acc: ',test_acc*100)"
      ],
      "execution_count": 39,
      "outputs": [
        {
          "output_type": "stream",
          "text": [
            "test_acc:  80.0000011920929\n"
          ],
          "name": "stdout"
        }
      ]
    },
    {
      "cell_type": "code",
      "metadata": {
        "id": "Zy9jwRq051F4"
      },
      "source": [
        ""
      ],
      "execution_count": null,
      "outputs": []
    },
    {
      "cell_type": "code",
      "metadata": {
        "colab": {
          "base_uri": "https://localhost:8080/"
        },
        "id": "xfN_t3xNCtVH",
        "outputId": "e7ea0ddc-d5d2-4e04-e2a3-9a1e740e34c7"
      },
      "source": [
        "data_folder = 'Wav_data'\n",
        "data_set = []\n",
        "dictionary_map ={}\n",
        "count = 0\n",
        "for f in listdir(data_folder):\n",
        "    if f not in dictionary_map:\n",
        "      print(f)\n",
        "      dictionary_map[f] = count\n",
        "      count +=1\n",
        "    for f1 in listdir('Wav_data/{}'.format(f)):\n",
        "      # print(f1)\n",
        "    #   waveform,sample_rate = torchaudio.load(\"Wav_data/{}/{}\".format(f,f1))\n",
        "      y, sr = librosa.load(\"Wav_data/{}/{}\".format(f,f1))\n",
        "      mfcc = librosa.feature.mfcc(y=y, sr=sr)\n",
        "    #   print(waveform.shape[1])\n",
        "    #   if waveform.shape[1] < 128000:\n",
        "    #     waveform = F.pad(input=waveform, pad=(0, 128000 - waveform.shape[1]), mode='constant', value=0)\n",
        "    #   elif waveform.shape[1] > 128000:\n",
        "    #     waveform = waveform[:128000]\n",
        "    #   print(waveform.shape[1])\n",
        "    #   mfcc = torchaudio.transforms.MFCC(n_mfcc=12, log_mels=True)(waveform).squeeze(0).transpose(0,1)\n",
        "    #   print(mfcc.size())\n",
        "    #   print(dictionary_map[f])\n",
        "      data_set.append([mfcc,dictionary_map[f]])\n",
        "# print(data_set)\n"
      ],
      "execution_count": null,
      "outputs": [
        {
          "output_type": "stream",
          "text": [
            "semiclassical\n",
            "carnatic\n",
            "sufi\n",
            "ghazal\n",
            "bollypop\n"
          ],
          "name": "stdout"
        }
      ]
    },
    {
      "cell_type": "code",
      "metadata": {
        "colab": {
          "base_uri": "https://localhost:8080/"
        },
        "id": "09zcRtYQLTb1",
        "outputId": "22b84ad2-06fe-49e3-90a2-26736da57d95"
      },
      "source": [
        "len(data_set)"
      ],
      "execution_count": null,
      "outputs": [
        {
          "output_type": "execute_result",
          "data": {
            "text/plain": [
              "500"
            ]
          },
          "metadata": {
            "tags": []
          },
          "execution_count": 75
        }
      ]
    },
    {
      "cell_type": "code",
      "metadata": {
        "id": "8XdPKM6LGmOj"
      },
      "source": [
        ""
      ],
      "execution_count": null,
      "outputs": []
    },
    {
      "cell_type": "code",
      "metadata": {
        "id": "GPfRfk-_C0jQ"
      },
      "source": [
        "import random\n",
        "random.shuffle(data_set)\n",
        "train_set = data_set[:400]\n",
        "test_set = data_set[-100:]\n",
        "\n",
        "train_dl = torch.utils.data.DataLoader(train_set, batch_size=16, shuffle=True)\n",
        "test_dl = torch.utils.data.DataLoader(test_set, batch_size=16)"
      ],
      "execution_count": null,
      "outputs": []
    },
    {
      "cell_type": "code",
      "metadata": {
        "colab": {
          "base_uri": "https://localhost:8080/"
        },
        "id": "YeExcBIc2m1X",
        "outputId": "95dd510c-b5b2-4ac3-9964-cdc4117497ac"
      },
      "source": [
        "num = 0\n",
        "for i in data_set:\n",
        "    num = max(i[0].shape[1],num)\n",
        "print(num)"
      ],
      "execution_count": null,
      "outputs": [
        {
          "output_type": "stream",
          "text": [
            "4522\n"
          ],
          "name": "stdout"
        }
      ]
    },
    {
      "cell_type": "code",
      "metadata": {
        "id": "EDRCsIVHGld_"
      },
      "source": [
        "class SpeechRNN(torch.nn.Module):\n",
        "  \n",
        "  def __init__(self):\n",
        "    super(SpeechRNN, self).__init__()\n",
        "    \n",
        "    self.rnn = torch.nn.LSTM(input_size = 1938, \n",
        "                              hidden_size= 256, \n",
        "                              num_layers = 2, \n",
        "                              batch_first=True)\n",
        "    \n",
        "    self.out_layer = torch.nn.Linear(256, 5)\n",
        "    \n",
        "    self.softmax = torch.nn.LogSoftmax(dim=1)\n",
        "    \n",
        "  def forward(self, x):\n",
        "    \n",
        "    out, _ = self.rnn(x)\n",
        "    \n",
        "    x = self.out_layer(out[:,-1,:])\n",
        "    \n",
        "    return self.softmax(x)"
      ],
      "execution_count": null,
      "outputs": []
    },
    {
      "cell_type": "code",
      "metadata": {
        "id": "fdqthxiMewrj"
      },
      "source": [
        "##RE-RUN THIS CODE TO GET A \"NEW\" NETWORK\n",
        "\n",
        "LEARNING_RATE = 0.001\n",
        "\n",
        "## Create an instance of our network\n",
        "net = SpeechRNN()\n",
        "\n",
        "## Move it to the GPU\n",
        "# net = net.cuda()\n",
        "\n",
        "# Negative log likelihood loss\n",
        "criterion = torch.nn.NLLLoss()\n",
        "\n",
        "# Adam optimizer\n",
        "optimizer = torch.optim.Adam(net.parameters(), lr=LEARNING_RATE)"
      ],
      "execution_count": null,
      "outputs": []
    },
    {
      "cell_type": "code",
      "metadata": {
        "colab": {
          "base_uri": "https://localhost:8080/",
          "height": 473,
          "referenced_widgets": [
            "9bf6b49e6dfd4f6db6813b74faee1271",
            "888ff015899848bda9768dcb48c2b6e5",
            "6733003a42a8477b98cecbd78f4cf941",
            "9c74cda599c041f1baf7e24e0b21315a",
            "33aa0d4a888343a3b70fbaccfc496140",
            "36a3747e6d5a4356a5b68283048a02c4",
            "726742b946c44b29a7d8b021657dd861",
            "125f9a339f2546da8fb1a423ff20c4cb"
          ]
        },
        "id": "ydlgL1eIezAg",
        "outputId": "f84e4757-92e3-4b73-8d4b-161e470fbd0e"
      },
      "source": [
        "## NUMBER OF EPOCHS TO TRAIN\n",
        "N_EPOCHS = 20\n",
        "\n",
        "epoch_loss, epoch_acc, epoch_val_loss, epoch_val_acc = [], [], [], []\n",
        "\n",
        "for e in range(N_EPOCHS):\n",
        "  \n",
        "  print(\"EPOCH:\",e)\n",
        "  \n",
        "  ### TRAINING LOOP\n",
        "  running_loss = 0\n",
        "  running_accuracy = 0\n",
        "  \n",
        "  ## Put the network in training mode\n",
        "  net.train()\n",
        "  \n",
        "  for i, batch in enumerate(tqdm_notebook(train_dl)):\n",
        "    \n",
        "    # Get a batch from the dataloader\n",
        "    x = batch[0]\n",
        "    labels = batch[1]\n",
        "    \n",
        "    # move the batch to GPU\n",
        "    x = x\n",
        "    labels = labels\n",
        "\n",
        "    # Compute the network output\n",
        "    y = net(x)\n",
        "    # print(y.shape)\n",
        "    # print(min(labels),max(labels))\n",
        "    # Compute the loss\n",
        "    loss = criterion(y, labels)\n",
        "    \n",
        "    # Reset the gradients\n",
        "    optimizer.zero_grad()\n",
        "    \n",
        "    # Compute the gradients\n",
        "    loss.backward()\n",
        "    \n",
        "    # Apply one step of the descent algorithm to update the weights\n",
        "    optimizer.step()\n",
        "    \n",
        "    ## Compute some statistics\n",
        "    with torch.no_grad():\n",
        "      running_loss += loss.item()\n",
        "      running_accuracy += (y.max(1)[1] == labels).sum().item()\n",
        "    \n",
        "  print(\"Training accuracy:\", running_accuracy/float(len(train_set)),\n",
        "        \"Training loss:\", running_loss/float(len(train_set)))\n",
        "  \n",
        "  epoch_loss.append(running_loss/len(train_set))\n",
        "  epoch_acc.append(running_accuracy/len(train_set))\n",
        "  \n",
        "  "
      ],
      "execution_count": null,
      "outputs": [
        {
          "output_type": "stream",
          "text": [
            "EPOCH: 0\n"
          ],
          "name": "stdout"
        },
        {
          "output_type": "stream",
          "text": [
            "/usr/local/lib/python3.7/dist-packages/ipykernel_launcher.py:17: TqdmDeprecationWarning: This function will be removed in tqdm==5.0.0\n",
            "Please use `tqdm.notebook.tqdm` instead of `tqdm.tqdm_notebook`\n"
          ],
          "name": "stderr"
        },
        {
          "output_type": "display_data",
          "data": {
            "application/vnd.jupyter.widget-view+json": {
              "model_id": "9bf6b49e6dfd4f6db6813b74faee1271",
              "version_minor": 0,
              "version_major": 2
            },
            "text/plain": [
              "HBox(children=(FloatProgress(value=0.0, max=25.0), HTML(value='')))"
            ]
          },
          "metadata": {
            "tags": []
          }
        },
        {
          "output_type": "error",
          "ename": "RuntimeError",
          "evalue": "ignored",
          "traceback": [
            "\u001b[0;31m---------------------------------------------------------------------------\u001b[0m",
            "\u001b[0;31mRuntimeError\u001b[0m                              Traceback (most recent call last)",
            "\u001b[0;32m<ipython-input-83-c44d57ddd7d4>\u001b[0m in \u001b[0;36m<module>\u001b[0;34m()\u001b[0m\n\u001b[1;32m     15\u001b[0m   \u001b[0mnet\u001b[0m\u001b[0;34m.\u001b[0m\u001b[0mtrain\u001b[0m\u001b[0;34m(\u001b[0m\u001b[0;34m)\u001b[0m\u001b[0;34m\u001b[0m\u001b[0;34m\u001b[0m\u001b[0m\n\u001b[1;32m     16\u001b[0m \u001b[0;34m\u001b[0m\u001b[0m\n\u001b[0;32m---> 17\u001b[0;31m   \u001b[0;32mfor\u001b[0m \u001b[0mi\u001b[0m\u001b[0;34m,\u001b[0m \u001b[0mbatch\u001b[0m \u001b[0;32min\u001b[0m \u001b[0menumerate\u001b[0m\u001b[0;34m(\u001b[0m\u001b[0mtqdm_notebook\u001b[0m\u001b[0;34m(\u001b[0m\u001b[0mtrain_dl\u001b[0m\u001b[0;34m)\u001b[0m\u001b[0;34m)\u001b[0m\u001b[0;34m:\u001b[0m\u001b[0;34m\u001b[0m\u001b[0;34m\u001b[0m\u001b[0m\n\u001b[0m\u001b[1;32m     18\u001b[0m \u001b[0;34m\u001b[0m\u001b[0m\n\u001b[1;32m     19\u001b[0m     \u001b[0;31m# Get a batch from the dataloader\u001b[0m\u001b[0;34m\u001b[0m\u001b[0;34m\u001b[0m\u001b[0;34m\u001b[0m\u001b[0m\n",
            "\u001b[0;32m/usr/local/lib/python3.7/dist-packages/tqdm/notebook.py\u001b[0m in \u001b[0;36m__iter__\u001b[0;34m(self, *args, **kwargs)\u001b[0m\n\u001b[1;32m    213\u001b[0m     \u001b[0;32mdef\u001b[0m \u001b[0m__iter__\u001b[0m\u001b[0;34m(\u001b[0m\u001b[0mself\u001b[0m\u001b[0;34m,\u001b[0m \u001b[0;34m*\u001b[0m\u001b[0margs\u001b[0m\u001b[0;34m,\u001b[0m \u001b[0;34m**\u001b[0m\u001b[0mkwargs\u001b[0m\u001b[0;34m)\u001b[0m\u001b[0;34m:\u001b[0m\u001b[0;34m\u001b[0m\u001b[0;34m\u001b[0m\u001b[0m\n\u001b[1;32m    214\u001b[0m         \u001b[0;32mtry\u001b[0m\u001b[0;34m:\u001b[0m\u001b[0;34m\u001b[0m\u001b[0;34m\u001b[0m\u001b[0m\n\u001b[0;32m--> 215\u001b[0;31m             \u001b[0;32mfor\u001b[0m \u001b[0mobj\u001b[0m \u001b[0;32min\u001b[0m \u001b[0msuper\u001b[0m\u001b[0;34m(\u001b[0m\u001b[0mtqdm_notebook\u001b[0m\u001b[0;34m,\u001b[0m \u001b[0mself\u001b[0m\u001b[0;34m)\u001b[0m\u001b[0;34m.\u001b[0m\u001b[0m__iter__\u001b[0m\u001b[0;34m(\u001b[0m\u001b[0;34m*\u001b[0m\u001b[0margs\u001b[0m\u001b[0;34m,\u001b[0m \u001b[0;34m**\u001b[0m\u001b[0mkwargs\u001b[0m\u001b[0;34m)\u001b[0m\u001b[0;34m:\u001b[0m\u001b[0;34m\u001b[0m\u001b[0;34m\u001b[0m\u001b[0m\n\u001b[0m\u001b[1;32m    216\u001b[0m                 \u001b[0;31m# return super(tqdm...) will not catch exception\u001b[0m\u001b[0;34m\u001b[0m\u001b[0;34m\u001b[0m\u001b[0;34m\u001b[0m\u001b[0m\n\u001b[1;32m    217\u001b[0m                 \u001b[0;32myield\u001b[0m \u001b[0mobj\u001b[0m\u001b[0;34m\u001b[0m\u001b[0;34m\u001b[0m\u001b[0m\n",
            "\u001b[0;32m/usr/local/lib/python3.7/dist-packages/tqdm/std.py\u001b[0m in \u001b[0;36m__iter__\u001b[0;34m(self)\u001b[0m\n\u001b[1;32m   1102\u001b[0m                 fp_write=getattr(self.fp, 'write', sys.stderr.write))\n\u001b[1;32m   1103\u001b[0m \u001b[0;34m\u001b[0m\u001b[0m\n\u001b[0;32m-> 1104\u001b[0;31m         \u001b[0;32mfor\u001b[0m \u001b[0mobj\u001b[0m \u001b[0;32min\u001b[0m \u001b[0miterable\u001b[0m\u001b[0;34m:\u001b[0m\u001b[0;34m\u001b[0m\u001b[0;34m\u001b[0m\u001b[0m\n\u001b[0m\u001b[1;32m   1105\u001b[0m             \u001b[0;32myield\u001b[0m \u001b[0mobj\u001b[0m\u001b[0;34m\u001b[0m\u001b[0;34m\u001b[0m\u001b[0m\n\u001b[1;32m   1106\u001b[0m             \u001b[0;31m# Update and possibly print the progressbar.\u001b[0m\u001b[0;34m\u001b[0m\u001b[0;34m\u001b[0m\u001b[0;34m\u001b[0m\u001b[0m\n",
            "\u001b[0;32m/usr/local/lib/python3.7/dist-packages/torch/utils/data/dataloader.py\u001b[0m in \u001b[0;36m__next__\u001b[0;34m(self)\u001b[0m\n\u001b[1;32m    515\u001b[0m             \u001b[0;32mif\u001b[0m \u001b[0mself\u001b[0m\u001b[0;34m.\u001b[0m\u001b[0m_sampler_iter\u001b[0m \u001b[0;32mis\u001b[0m \u001b[0;32mNone\u001b[0m\u001b[0;34m:\u001b[0m\u001b[0;34m\u001b[0m\u001b[0;34m\u001b[0m\u001b[0m\n\u001b[1;32m    516\u001b[0m                 \u001b[0mself\u001b[0m\u001b[0;34m.\u001b[0m\u001b[0m_reset\u001b[0m\u001b[0;34m(\u001b[0m\u001b[0;34m)\u001b[0m\u001b[0;34m\u001b[0m\u001b[0;34m\u001b[0m\u001b[0m\n\u001b[0;32m--> 517\u001b[0;31m             \u001b[0mdata\u001b[0m \u001b[0;34m=\u001b[0m \u001b[0mself\u001b[0m\u001b[0;34m.\u001b[0m\u001b[0m_next_data\u001b[0m\u001b[0;34m(\u001b[0m\u001b[0;34m)\u001b[0m\u001b[0;34m\u001b[0m\u001b[0;34m\u001b[0m\u001b[0m\n\u001b[0m\u001b[1;32m    518\u001b[0m             \u001b[0mself\u001b[0m\u001b[0;34m.\u001b[0m\u001b[0m_num_yielded\u001b[0m \u001b[0;34m+=\u001b[0m \u001b[0;36m1\u001b[0m\u001b[0;34m\u001b[0m\u001b[0;34m\u001b[0m\u001b[0m\n\u001b[1;32m    519\u001b[0m             \u001b[0;32mif\u001b[0m \u001b[0mself\u001b[0m\u001b[0;34m.\u001b[0m\u001b[0m_dataset_kind\u001b[0m \u001b[0;34m==\u001b[0m \u001b[0m_DatasetKind\u001b[0m\u001b[0;34m.\u001b[0m\u001b[0mIterable\u001b[0m \u001b[0;32mand\u001b[0m\u001b[0;31m \u001b[0m\u001b[0;31m\\\u001b[0m\u001b[0;34m\u001b[0m\u001b[0;34m\u001b[0m\u001b[0m\n",
            "\u001b[0;32m/usr/local/lib/python3.7/dist-packages/torch/utils/data/dataloader.py\u001b[0m in \u001b[0;36m_next_data\u001b[0;34m(self)\u001b[0m\n\u001b[1;32m    555\u001b[0m     \u001b[0;32mdef\u001b[0m \u001b[0m_next_data\u001b[0m\u001b[0;34m(\u001b[0m\u001b[0mself\u001b[0m\u001b[0;34m)\u001b[0m\u001b[0;34m:\u001b[0m\u001b[0;34m\u001b[0m\u001b[0;34m\u001b[0m\u001b[0m\n\u001b[1;32m    556\u001b[0m         \u001b[0mindex\u001b[0m \u001b[0;34m=\u001b[0m \u001b[0mself\u001b[0m\u001b[0;34m.\u001b[0m\u001b[0m_next_index\u001b[0m\u001b[0;34m(\u001b[0m\u001b[0;34m)\u001b[0m  \u001b[0;31m# may raise StopIteration\u001b[0m\u001b[0;34m\u001b[0m\u001b[0;34m\u001b[0m\u001b[0m\n\u001b[0;32m--> 557\u001b[0;31m         \u001b[0mdata\u001b[0m \u001b[0;34m=\u001b[0m \u001b[0mself\u001b[0m\u001b[0;34m.\u001b[0m\u001b[0m_dataset_fetcher\u001b[0m\u001b[0;34m.\u001b[0m\u001b[0mfetch\u001b[0m\u001b[0;34m(\u001b[0m\u001b[0mindex\u001b[0m\u001b[0;34m)\u001b[0m  \u001b[0;31m# may raise StopIteration\u001b[0m\u001b[0;34m\u001b[0m\u001b[0;34m\u001b[0m\u001b[0m\n\u001b[0m\u001b[1;32m    558\u001b[0m         \u001b[0;32mif\u001b[0m \u001b[0mself\u001b[0m\u001b[0;34m.\u001b[0m\u001b[0m_pin_memory\u001b[0m\u001b[0;34m:\u001b[0m\u001b[0;34m\u001b[0m\u001b[0;34m\u001b[0m\u001b[0m\n\u001b[1;32m    559\u001b[0m             \u001b[0mdata\u001b[0m \u001b[0;34m=\u001b[0m \u001b[0m_utils\u001b[0m\u001b[0;34m.\u001b[0m\u001b[0mpin_memory\u001b[0m\u001b[0;34m.\u001b[0m\u001b[0mpin_memory\u001b[0m\u001b[0;34m(\u001b[0m\u001b[0mdata\u001b[0m\u001b[0;34m)\u001b[0m\u001b[0;34m\u001b[0m\u001b[0;34m\u001b[0m\u001b[0m\n",
            "\u001b[0;32m/usr/local/lib/python3.7/dist-packages/torch/utils/data/_utils/fetch.py\u001b[0m in \u001b[0;36mfetch\u001b[0;34m(self, possibly_batched_index)\u001b[0m\n\u001b[1;32m     45\u001b[0m         \u001b[0;32melse\u001b[0m\u001b[0;34m:\u001b[0m\u001b[0;34m\u001b[0m\u001b[0;34m\u001b[0m\u001b[0m\n\u001b[1;32m     46\u001b[0m             \u001b[0mdata\u001b[0m \u001b[0;34m=\u001b[0m \u001b[0mself\u001b[0m\u001b[0;34m.\u001b[0m\u001b[0mdataset\u001b[0m\u001b[0;34m[\u001b[0m\u001b[0mpossibly_batched_index\u001b[0m\u001b[0;34m]\u001b[0m\u001b[0;34m\u001b[0m\u001b[0;34m\u001b[0m\u001b[0m\n\u001b[0;32m---> 47\u001b[0;31m         \u001b[0;32mreturn\u001b[0m \u001b[0mself\u001b[0m\u001b[0;34m.\u001b[0m\u001b[0mcollate_fn\u001b[0m\u001b[0;34m(\u001b[0m\u001b[0mdata\u001b[0m\u001b[0;34m)\u001b[0m\u001b[0;34m\u001b[0m\u001b[0;34m\u001b[0m\u001b[0m\n\u001b[0m",
            "\u001b[0;32m/usr/local/lib/python3.7/dist-packages/torch/utils/data/_utils/collate.py\u001b[0m in \u001b[0;36mdefault_collate\u001b[0;34m(batch)\u001b[0m\n\u001b[1;32m     81\u001b[0m             \u001b[0;32mraise\u001b[0m \u001b[0mRuntimeError\u001b[0m\u001b[0;34m(\u001b[0m\u001b[0;34m'each element in list of batch should be of equal size'\u001b[0m\u001b[0;34m)\u001b[0m\u001b[0;34m\u001b[0m\u001b[0;34m\u001b[0m\u001b[0m\n\u001b[1;32m     82\u001b[0m         \u001b[0mtransposed\u001b[0m \u001b[0;34m=\u001b[0m \u001b[0mzip\u001b[0m\u001b[0;34m(\u001b[0m\u001b[0;34m*\u001b[0m\u001b[0mbatch\u001b[0m\u001b[0;34m)\u001b[0m\u001b[0;34m\u001b[0m\u001b[0;34m\u001b[0m\u001b[0m\n\u001b[0;32m---> 83\u001b[0;31m         \u001b[0;32mreturn\u001b[0m \u001b[0;34m[\u001b[0m\u001b[0mdefault_collate\u001b[0m\u001b[0;34m(\u001b[0m\u001b[0msamples\u001b[0m\u001b[0;34m)\u001b[0m \u001b[0;32mfor\u001b[0m \u001b[0msamples\u001b[0m \u001b[0;32min\u001b[0m \u001b[0mtransposed\u001b[0m\u001b[0;34m]\u001b[0m\u001b[0;34m\u001b[0m\u001b[0;34m\u001b[0m\u001b[0m\n\u001b[0m\u001b[1;32m     84\u001b[0m \u001b[0;34m\u001b[0m\u001b[0m\n\u001b[1;32m     85\u001b[0m     \u001b[0;32mraise\u001b[0m \u001b[0mTypeError\u001b[0m\u001b[0;34m(\u001b[0m\u001b[0mdefault_collate_err_msg_format\u001b[0m\u001b[0;34m.\u001b[0m\u001b[0mformat\u001b[0m\u001b[0;34m(\u001b[0m\u001b[0melem_type\u001b[0m\u001b[0;34m)\u001b[0m\u001b[0;34m)\u001b[0m\u001b[0;34m\u001b[0m\u001b[0;34m\u001b[0m\u001b[0m\n",
            "\u001b[0;32m/usr/local/lib/python3.7/dist-packages/torch/utils/data/_utils/collate.py\u001b[0m in \u001b[0;36m<listcomp>\u001b[0;34m(.0)\u001b[0m\n\u001b[1;32m     81\u001b[0m             \u001b[0;32mraise\u001b[0m \u001b[0mRuntimeError\u001b[0m\u001b[0;34m(\u001b[0m\u001b[0;34m'each element in list of batch should be of equal size'\u001b[0m\u001b[0;34m)\u001b[0m\u001b[0;34m\u001b[0m\u001b[0;34m\u001b[0m\u001b[0m\n\u001b[1;32m     82\u001b[0m         \u001b[0mtransposed\u001b[0m \u001b[0;34m=\u001b[0m \u001b[0mzip\u001b[0m\u001b[0;34m(\u001b[0m\u001b[0;34m*\u001b[0m\u001b[0mbatch\u001b[0m\u001b[0;34m)\u001b[0m\u001b[0;34m\u001b[0m\u001b[0;34m\u001b[0m\u001b[0m\n\u001b[0;32m---> 83\u001b[0;31m         \u001b[0;32mreturn\u001b[0m \u001b[0;34m[\u001b[0m\u001b[0mdefault_collate\u001b[0m\u001b[0;34m(\u001b[0m\u001b[0msamples\u001b[0m\u001b[0;34m)\u001b[0m \u001b[0;32mfor\u001b[0m \u001b[0msamples\u001b[0m \u001b[0;32min\u001b[0m \u001b[0mtransposed\u001b[0m\u001b[0;34m]\u001b[0m\u001b[0;34m\u001b[0m\u001b[0;34m\u001b[0m\u001b[0m\n\u001b[0m\u001b[1;32m     84\u001b[0m \u001b[0;34m\u001b[0m\u001b[0m\n\u001b[1;32m     85\u001b[0m     \u001b[0;32mraise\u001b[0m \u001b[0mTypeError\u001b[0m\u001b[0;34m(\u001b[0m\u001b[0mdefault_collate_err_msg_format\u001b[0m\u001b[0;34m.\u001b[0m\u001b[0mformat\u001b[0m\u001b[0;34m(\u001b[0m\u001b[0melem_type\u001b[0m\u001b[0;34m)\u001b[0m\u001b[0;34m)\u001b[0m\u001b[0;34m\u001b[0m\u001b[0;34m\u001b[0m\u001b[0m\n",
            "\u001b[0;32m/usr/local/lib/python3.7/dist-packages/torch/utils/data/_utils/collate.py\u001b[0m in \u001b[0;36mdefault_collate\u001b[0;34m(batch)\u001b[0m\n\u001b[1;32m     61\u001b[0m                 \u001b[0;32mraise\u001b[0m \u001b[0mTypeError\u001b[0m\u001b[0;34m(\u001b[0m\u001b[0mdefault_collate_err_msg_format\u001b[0m\u001b[0;34m.\u001b[0m\u001b[0mformat\u001b[0m\u001b[0;34m(\u001b[0m\u001b[0melem\u001b[0m\u001b[0;34m.\u001b[0m\u001b[0mdtype\u001b[0m\u001b[0;34m)\u001b[0m\u001b[0;34m)\u001b[0m\u001b[0;34m\u001b[0m\u001b[0;34m\u001b[0m\u001b[0m\n\u001b[1;32m     62\u001b[0m \u001b[0;34m\u001b[0m\u001b[0m\n\u001b[0;32m---> 63\u001b[0;31m             \u001b[0;32mreturn\u001b[0m \u001b[0mdefault_collate\u001b[0m\u001b[0;34m(\u001b[0m\u001b[0;34m[\u001b[0m\u001b[0mtorch\u001b[0m\u001b[0;34m.\u001b[0m\u001b[0mas_tensor\u001b[0m\u001b[0;34m(\u001b[0m\u001b[0mb\u001b[0m\u001b[0;34m)\u001b[0m \u001b[0;32mfor\u001b[0m \u001b[0mb\u001b[0m \u001b[0;32min\u001b[0m \u001b[0mbatch\u001b[0m\u001b[0;34m]\u001b[0m\u001b[0;34m)\u001b[0m\u001b[0;34m\u001b[0m\u001b[0;34m\u001b[0m\u001b[0m\n\u001b[0m\u001b[1;32m     64\u001b[0m         \u001b[0;32melif\u001b[0m \u001b[0melem\u001b[0m\u001b[0;34m.\u001b[0m\u001b[0mshape\u001b[0m \u001b[0;34m==\u001b[0m \u001b[0;34m(\u001b[0m\u001b[0;34m)\u001b[0m\u001b[0;34m:\u001b[0m  \u001b[0;31m# scalars\u001b[0m\u001b[0;34m\u001b[0m\u001b[0;34m\u001b[0m\u001b[0m\n\u001b[1;32m     65\u001b[0m             \u001b[0;32mreturn\u001b[0m \u001b[0mtorch\u001b[0m\u001b[0;34m.\u001b[0m\u001b[0mas_tensor\u001b[0m\u001b[0;34m(\u001b[0m\u001b[0mbatch\u001b[0m\u001b[0;34m)\u001b[0m\u001b[0;34m\u001b[0m\u001b[0;34m\u001b[0m\u001b[0m\n",
            "\u001b[0;32m/usr/local/lib/python3.7/dist-packages/torch/utils/data/_utils/collate.py\u001b[0m in \u001b[0;36mdefault_collate\u001b[0;34m(batch)\u001b[0m\n\u001b[1;32m     53\u001b[0m             \u001b[0mstorage\u001b[0m \u001b[0;34m=\u001b[0m \u001b[0melem\u001b[0m\u001b[0;34m.\u001b[0m\u001b[0mstorage\u001b[0m\u001b[0;34m(\u001b[0m\u001b[0;34m)\u001b[0m\u001b[0;34m.\u001b[0m\u001b[0m_new_shared\u001b[0m\u001b[0;34m(\u001b[0m\u001b[0mnumel\u001b[0m\u001b[0;34m)\u001b[0m\u001b[0;34m\u001b[0m\u001b[0;34m\u001b[0m\u001b[0m\n\u001b[1;32m     54\u001b[0m             \u001b[0mout\u001b[0m \u001b[0;34m=\u001b[0m \u001b[0melem\u001b[0m\u001b[0;34m.\u001b[0m\u001b[0mnew\u001b[0m\u001b[0;34m(\u001b[0m\u001b[0mstorage\u001b[0m\u001b[0;34m)\u001b[0m\u001b[0;34m\u001b[0m\u001b[0;34m\u001b[0m\u001b[0m\n\u001b[0;32m---> 55\u001b[0;31m         \u001b[0;32mreturn\u001b[0m \u001b[0mtorch\u001b[0m\u001b[0;34m.\u001b[0m\u001b[0mstack\u001b[0m\u001b[0;34m(\u001b[0m\u001b[0mbatch\u001b[0m\u001b[0;34m,\u001b[0m \u001b[0;36m0\u001b[0m\u001b[0;34m,\u001b[0m \u001b[0mout\u001b[0m\u001b[0;34m=\u001b[0m\u001b[0mout\u001b[0m\u001b[0;34m)\u001b[0m\u001b[0;34m\u001b[0m\u001b[0;34m\u001b[0m\u001b[0m\n\u001b[0m\u001b[1;32m     56\u001b[0m     \u001b[0;32melif\u001b[0m \u001b[0melem_type\u001b[0m\u001b[0;34m.\u001b[0m\u001b[0m__module__\u001b[0m \u001b[0;34m==\u001b[0m \u001b[0;34m'numpy'\u001b[0m \u001b[0;32mand\u001b[0m \u001b[0melem_type\u001b[0m\u001b[0;34m.\u001b[0m\u001b[0m__name__\u001b[0m \u001b[0;34m!=\u001b[0m \u001b[0;34m'str_'\u001b[0m\u001b[0;31m \u001b[0m\u001b[0;31m\\\u001b[0m\u001b[0;34m\u001b[0m\u001b[0;34m\u001b[0m\u001b[0m\n\u001b[1;32m     57\u001b[0m             \u001b[0;32mand\u001b[0m \u001b[0melem_type\u001b[0m\u001b[0;34m.\u001b[0m\u001b[0m__name__\u001b[0m \u001b[0;34m!=\u001b[0m \u001b[0;34m'string_'\u001b[0m\u001b[0;34m:\u001b[0m\u001b[0;34m\u001b[0m\u001b[0;34m\u001b[0m\u001b[0m\n",
            "\u001b[0;31mRuntimeError\u001b[0m: stack expects each tensor to be equal size, but got [20, 1938] at entry 0 and [20, 2584] at entry 8"
          ]
        }
      ]
    },
    {
      "cell_type": "code",
      "metadata": {
        "id": "BBZ-VbYp3cIc"
      },
      "source": [
        ""
      ],
      "execution_count": null,
      "outputs": []
    }
  ]
}